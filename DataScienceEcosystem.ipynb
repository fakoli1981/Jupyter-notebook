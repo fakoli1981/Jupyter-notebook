{
 "cells": [
  {
   "cell_type": "markdown",
   "id": "45d70ec6-b6a1-469a-9be3-6ab88d0329a6",
   "metadata": {},
   "source": [
    "In this notebook, Data Science Tools and Ecosystem are summarized."
   ]
  },
  {
   "cell_type": "markdown",
   "id": "a96b6043-d5e3-4f00-9bbb-07bc27bab9eb",
   "metadata": {},
   "source": [
    " __Objectives:__ \n",
    "* Python\n",
    "* R\n",
    "* SQL\n",
    " "
   ]
  },
  {
   "cell_type": "markdown",
   "id": "7c36ab05-cf9f-4781-aaed-ea1e8c34608d",
   "metadata": {},
   "source": [
    "Some of the commonly used libraries used by Data Scientists include:\n",
    "\n",
    "(\"- Python\")\n",
    "(\"- R\")\n",
    "(\"- SQL\")"
   ]
  },
  {
   "cell_type": "code",
   "execution_count": 17,
   "id": "7525c52c-a061-49fb-8add-bb7096f2caf0",
   "metadata": {},
   "outputs": [
    {
     "name": "stdout",
     "output_type": "stream",
     "text": [
      "Data Science Tools  \n",
      "--------------------+-------------------------\n",
      "Google Colab        \n",
      "RStudio             \n",
      "Visual Studio Code  \n"
     ]
    }
   ],
   "source": [
    "### Results\n",
    "\n",
    "print('{:20} | {:20}'.format('Data Science Tools'))\n",
    "print('--------------------+-------------------------')\n",
    "print('{:20} | {:20}'.format(''Google Colab'))\n",
    "print('{:20} | {:20}'.format('RStudio'))\n",
    "print('{:20} | {:20}'.format(Visual Studio Code'))"
   ]
  },
  {
   "cell_type": "markdown",
   "id": "6abdb9dd-623e-470a-93b2-9b0cb4ed5192",
   "metadata": {},
   "source": [
    "### Below are a few examples of evaluating arithmetic expressions in Python."
   ]
  },
  {
   "cell_type": "code",
   "execution_count": 18,
   "id": "6e9f39a4-feb1-4975-89df-c6d64fc75f4c",
   "metadata": {},
   "outputs": [
    {
     "data": {
      "text/plain": [
       "17"
      ]
     },
     "execution_count": 18,
     "metadata": {},
     "output_type": "execute_result"
    }
   ],
   "source": [
    "# This a simple arithmetic expression to mutiply then add integers\n",
    "(3*4)+5"
   ]
  },
  {
   "cell_type": "code",
   "execution_count": 19,
   "id": "68ede75c-a177-4159-9af1-0a6b90e50f5a",
   "metadata": {},
   "outputs": [
    {
     "name": "stdout",
     "output_type": "stream",
     "text": [
      "200 minutes is equal to 3.3333333333333335 hours\n"
     ]
    }
   ],
   "source": [
    "#This will convert 200 minutes to hours by diving by 60\n",
    "minutes = 200\n",
    "hours = minutes / 60\n",
    "print(f\"{minutes} minutes is equal to {hours} hours\")"
   ]
  },
  {
   "cell_type": "markdown",
   "id": "57beb13c-02df-4328-b886-17805cde19d6",
   "metadata": {},
   "source": [
    "## Author \n",
    "Mohamed Cherif"
   ]
  },
  {
   "cell_type": "code",
   "execution_count": null,
   "id": "a7e3c8de-a55f-446a-bd9e-ced7d81027fb",
   "metadata": {},
   "outputs": [],
   "source": []
  }
 ],
 "metadata": {
  "kernelspec": {
   "display_name": "Python 3 (ipykernel)",
   "language": "python",
   "name": "python3"
  },
  "language_info": {
   "codemirror_mode": {
    "name": "ipython",
    "version": 3
   },
   "file_extension": ".py",
   "mimetype": "text/x-python",
   "name": "python",
   "nbconvert_exporter": "python",
   "pygments_lexer": "ipython3",
   "version": "3.11.8"
  }
 },
 "nbformat": 4,
 "nbformat_minor": 5
}
